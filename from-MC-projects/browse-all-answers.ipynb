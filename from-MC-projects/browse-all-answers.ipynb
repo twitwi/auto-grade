{
 "cells": [
  {
   "cell_type": "code",
   "execution_count": null,
   "metadata": {},
   "outputs": [],
   "source": [
    "import ipywidgets as widgets\n",
    "\n",
    "from scipy.misc import imread, imsave\n",
    "import io\n",
    "import sqlite3\n",
    "\n",
    "#\n",
    "\n",
    "import debounce\n",
    "\n",
    "path = \"./test3/\""
   ]
  },
  {
   "cell_type": "code",
   "execution_count": null,
   "metadata": {},
   "outputs": [],
   "source": [
    "def make_connection():\n",
    "    return sqlite3.connect(path+'capture.sqlite')"
   ]
  },
  {
   "cell_type": "code",
   "execution_count": null,
   "metadata": {},
   "outputs": [],
   "source": [
    "def query_users_info():\n",
    "    conn = make_connection()\n",
    "    c = conn.cursor()\n",
    "    #c.execute('''SELECT min(student), max(student), count(distinct student)\n",
    "    #             FROM capture_zone''')\n",
    "    #stats = c.fetchall()\n",
    "    c.execute('''SELECT DISTINCT student FROM capture_zone''')\n",
    "    return [i[0] for i in c.fetchall()]"
   ]
  },
  {
   "cell_type": "code",
   "execution_count": null,
   "metadata": {},
   "outputs": [],
   "source": [
    "def query_for_user(u):\n",
    "    conn = make_connection()\n",
    "    c = conn.cursor()\n",
    "    c.execute('''SELECT id_a,*\n",
    "                 FROM capture_zone\n",
    "                 WHERE student=? AND type=?\n",
    "                 ORDER BY id_a,id_b ASC\n",
    "                 LIMIT 100\n",
    "              ''',\n",
    "#             ORDER BY black DESC\n",
    "              (u, 4))\n",
    "\n",
    "    boxes = c.fetchall()\n",
    "    return boxes\n",
    "\n",
    "def preload_all_queries():\n",
    "    conn = make_connection()\n",
    "    c = conn.cursor()\n",
    "    c.execute('''SELECT id_a,student,* FROM capture_zone WHERE type=4 ORDER BY student,id_a,id_b ASC''')\n",
    "    res = {}\n",
    "    for r in c.fetchall():\n",
    "        k = r[1]\n",
    "        if not (k in res):\n",
    "            res[k] = []\n",
    "        res[k].append(r)\n",
    "    return res"
   ]
  },
  {
   "cell_type": "code",
   "execution_count": null,
   "metadata": {
    "scrolled": true
   },
   "outputs": [],
   "source": [
    "cache = preload_all_queries()"
   ]
  },
  {
   "cell_type": "code",
   "execution_count": null,
   "metadata": {},
   "outputs": [],
   "source": [
    "def flow_images_grouped_by(boxes, ind=0, maxline=24):\n",
    "    res = []\n",
    "    group = -123.123\n",
    "    for b in boxes:\n",
    "        if b[ind] != group:\n",
    "            group = b[ind]\n",
    "            res.append(widgets.HTML('''<div style=\"border: 1px solid black;\"></div>'''+str(group)))\n",
    "            res.append(widgets.HBox([]))\n",
    "        if len(res) > 0 and len(res[-1].children) >= maxline:\n",
    "            res.append(widgets.HBox([]))\n",
    "        res[-1].children += (widgets.Image(value=b[-1], width=20, height=20),)\n",
    "    return widgets.VBox(res)\n",
    "#flow_images_grouped_by(query_for_user(16))"
   ]
  },
  {
   "cell_type": "code",
   "execution_count": null,
   "metadata": {},
   "outputs": [],
   "source": [
    "all_users = query_users_info()\n",
    "container = widgets.Box()\n",
    "\n",
    "@debounce.debounce(.250)\n",
    "def on_change_user(change):\n",
    "    #container.children = (flow_images_grouped_by(query_for_user(all_users[change.new])), )\n",
    "    container.children = (flow_images_grouped_by(cache[all_users[change.new]]), )\n",
    "\n",
    "slider = widgets.IntSlider(min=1, max=len(all_users), value=1, description='User (in list)')\n",
    "slider.observe(on_change_user, names='value')\n",
    "display(slider, container)"
   ]
  },
  {
   "cell_type": "code",
   "execution_count": null,
   "metadata": {},
   "outputs": [],
   "source": [
    "# PADDING\n",
    "\n",
    "\n",
    "\n",
    "\n",
    "\n",
    "\n",
    "\n",
    "\n",
    "\n",
    "\n",
    "\n",
    "\n",
    "\n",
    "\n",
    "\n",
    "\n",
    "\n",
    "\n",
    "\n",
    "\n",
    "\n",
    "\n",
    "\n",
    "\n",
    "\n",
    "\n",
    "\n",
    "\n",
    "\n",
    "\n",
    "\n",
    "\n",
    "\n",
    "\n"
   ]
  }
 ],
 "metadata": {
  "kernelspec": {
   "display_name": "Python 3",
   "language": "python",
   "name": "python3"
  },
  "language_info": {
   "codemirror_mode": {
    "name": "ipython",
    "version": 3
   },
   "file_extension": ".py",
   "mimetype": "text/x-python",
   "name": "python",
   "nbconvert_exporter": "python",
   "pygments_lexer": "ipython3",
   "version": "3.5.2"
  }
 },
 "nbformat": 4,
 "nbformat_minor": 2
}
