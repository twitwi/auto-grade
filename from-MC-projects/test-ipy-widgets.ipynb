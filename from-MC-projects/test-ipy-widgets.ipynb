{
 "cells": [
  {
   "cell_type": "code",
   "execution_count": null,
   "metadata": {},
   "outputs": [],
   "source": [
    "import ipywidgets as widgets\n",
    "\n",
    "from scipy.misc import imread, imsave\n",
    "import io\n",
    "import sqlite3\n",
    "\n",
    "path = \"./\""
   ]
  },
  {
   "cell_type": "markdown",
   "metadata": {},
   "source": [
    "# Test sqlite to image"
   ]
  },
  {
   "cell_type": "code",
   "execution_count": null,
   "metadata": {},
   "outputs": [],
   "source": [
    "conn = sqlite3.connect(path+'capture.sqlite')\n",
    "c = conn.cursor()\n",
    "c.execute('''SELECT *\n",
    "             FROM capture_zone\n",
    "             WHERE student=? AND type=?\n",
    "             ORDER BY id_a,id_b ASC\n",
    "             LIMIT 100\n",
    "          ''',\n",
    "#             ORDER BY black DESC\n",
    "          (1, 4))\n",
    "\n",
    "boxes = c.fetchall()\n",
    "#print(darkest)\n",
    "#print(boxes[0])\n",
    "#ims = [imread(io.BytesIO(b[-1])) for b in boxes]"
   ]
  },
  {
   "cell_type": "code",
   "execution_count": null,
   "metadata": {},
   "outputs": [],
   "source": [
    "def flow(ws, step=10):\n",
    "    res = []\n",
    "    for s in range(0, len(ws), step):\n",
    "        e = min(len(ws), s+step)\n",
    "        res.append(widgets.HBox(ws[s:e]))\n",
    "    return widgets.VBox(res)"
   ]
  },
  {
   "cell_type": "code",
   "execution_count": null,
   "metadata": {},
   "outputs": [],
   "source": [
    "flow([widgets.Image(value=b[-1], format=\"JPG\") for b in boxes], 20)"
   ]
  },
  {
   "cell_type": "markdown",
   "metadata": {},
   "source": [
    "# Test interactive widgets"
   ]
  },
  {
   "cell_type": "code",
   "execution_count": null,
   "metadata": {},
   "outputs": [],
   "source": [
    "caption = widgets.Label(value='The values of range1 and range2 are synchronized')\n",
    "slider = widgets.IntSlider(min=-5, max=5, value=1, description='Slider')\n",
    "display(caption, slider)"
   ]
  },
  {
   "cell_type": "code",
   "execution_count": null,
   "metadata": {},
   "outputs": [],
   "source": [
    "counter = 0\n",
    "\n",
    "def handle_slider_change(change):\n",
    "    caption.value = 'The slider value is ' + (\n",
    "        'negative' if change.new < 0 else 'nonnegative'\n",
    "    )\n",
    "    global counter\n",
    "    counter += 1\n",
    "    hb.children = (widgets.Label(value=str(change) + \"----\" + str(counter)), )\n",
    "\n",
    "caption = widgets.Label(value='The values of range1 and range2 are synchronized')\n",
    "slider1 = widgets.IntSlider(min=-5, max=5, value=1, description='Slider')\n",
    "slider2 = widgets.IntSlider(min=-5, max=5, value=1, description='Slider2 (not handling)')\n",
    "\n",
    "slider1.observe(handle_slider_change, names='value')\n",
    "widgets.jslink((slider1, 'value'), (slider2, 'value'))\n",
    "hb = widgets.HBox()\n",
    "display(caption, hb, slider1, slider2)\n"
   ]
  },
  {
   "cell_type": "code",
   "execution_count": null,
   "metadata": {},
   "outputs": [],
   "source": [
    "import debounce\n",
    "counter = 0\n",
    "\n",
    "@debounce.debounce(.250)\n",
    "def handle_slider_change(change):\n",
    "    caption.value = 'The slider value is ' + (\n",
    "        'negative' if change.new < 0 else 'nonnegative'\n",
    "    )\n",
    "    global counter\n",
    "    counter += 1\n",
    "    hb.children = (widgets.Label(value=str(change) + \"----\" + str(counter)), )\n",
    "\n",
    "caption = widgets.Label(value='The values of range1 and range2 are synchronized')\n",
    "slider1 = widgets.IntSlider(min=-5, max=5, value=1, description='Slider')\n",
    "slider2 = widgets.IntSlider(min=-5, max=5, value=1, description='Slider2 (not handling)')\n",
    "\n",
    "slider1.observe(handle_slider_change, names='value')\n",
    "widgets.jslink((slider1, 'value'), (slider2, 'value'))\n",
    "hb = widgets.HBox()\n",
    "display(caption, hb, slider1, slider2)\n"
   ]
  },
  {
   "cell_type": "code",
   "execution_count": null,
   "metadata": {},
   "outputs": [],
   "source": []
  }
 ],
 "metadata": {
  "kernelspec": {
   "display_name": "Python 3",
   "language": "python",
   "name": "python3"
  },
  "language_info": {
   "codemirror_mode": {
    "name": "ipython",
    "version": 3
   },
   "file_extension": ".py",
   "mimetype": "text/x-python",
   "name": "python",
   "nbconvert_exporter": "python",
   "pygments_lexer": "ipython3",
   "version": "3.5.2"
  }
 },
 "nbformat": 4,
 "nbformat_minor": 2
}
